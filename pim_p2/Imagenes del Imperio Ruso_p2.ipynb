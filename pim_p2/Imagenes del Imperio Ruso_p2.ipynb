{
 "worksheets": [
  {
   "cells": [
    {
     "cell_type": "code",
     "metadata": {},
     "outputs": [],
     "input": [
      "import matplotlib.pyplot as plt\n",
      "from PIL import Image, ImageDraw\n",
      "import numpy as np\n",
      "import math\n",
      "import scipy\n",
      "from scipy import ndimage, signal\n",
      "from scipy.misc import imresize\n",
      "\n",
      "%matplotlib inline"
     ],
     "language": "python",
     "prompt_number": 1
    },
    {
     "cell_type": "code",
     "metadata": {},
     "outputs": [],
     "input": [
      "#LOAD IMAGES\n",
      "img = Image.open(\"00029u.png\")\n",
      "\n",
      "#WARNING SIZE AND SHAPE INDICES ARE UPSIDE DOWN\n",
      "size1_size=int(round(img.size[1]/10))\n",
      "size2_size=int(round(img.size[0]/10))\n",
      "\n",
      "img = imresize(img, ( size1_size,size2_size),interp='bilinear').astype('float')\n",
      "img_np = np.array(img)\n",
      "\n",
      "x1 = 20; y1 = 20;\n",
      "x2 = 25; y2 = 333;\n",
      "x3 = 24; y3 = 647;\n",
      "w = 336; h = 302;\n",
      "\n",
      "im1 = img_np[y1-2:y1+h-2,x1-1:x1+w-1];\n",
      "im2 = img_np[y2-2:y2+h-2,x2-1:x2+w-1];\n",
      "im3 = img_np[y3-2:y3+h-2,x3-1:x3+w-1];\n",
      "\n",
      "I1 = 256*im1.astype('double')/im1.max();\n",
      "I2 = 256*im2.astype('double')/im2.max();\n",
      "I3 = 256*im3.astype('double')/im3.max();\n",
      "\n",
      "#Union of the 3 channels to get the image\n",
      "RGB=np.zeros([h,w,3],dtype=type(img_np[0,0]))\n",
      "RGB[:,:,0]=I3\n",
      "RGB[:,:,1]=I2\n",
      "RGB[:,:,2]=I1\n",
      "\n",
      "#Get the 3 channel by separate\n",
      "R = np.copy(RGB[:,:,0])\n",
      "G = np.copy(RGB[:,:,1])\n",
      "B = np.copy(RGB[:,:,2])"
     ],
     "language": "python",
     "prompt_number": 2
    },
    {
     "cell_type": "code",
     "metadata": {},
     "outputs": [
      {
       "output_type": "pyout",
       "prompt_number": 6,
       "text": [
        "(302L, 336L)"
       ],
       "metadata": {}
      }
     ],
     "input": [
      "B.shape"
     ],
     "language": "python",
     "prompt_number": 6
    },
    {
     "cell_type": "code",
     "metadata": {},
     "outputs": [],
     "input": [
      ""
     ],
     "language": "python"
    }
   ]
  }
 ],
 "cells": [],
 "metadata": {
  "name": "",
  "signature": "sha256:7453fc7e950c9d87fb2324c95f50ecc3cedda6e3d178efd1f532f15743479298"
 },
 "nbformat": 3,
 "nbformat_minor": 0
}